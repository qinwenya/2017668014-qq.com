{
 "cells": [
  {
   "cell_type": "markdown",
   "metadata": {},
   "source": [
    "1.在VS Code中打开文件《统计与数据分析》课程第一次作业收集.xlsx \n",
    "2.然后引入pandas包，读取文件《统计与数据分析》课程第一次作业收集.xlsx，接着读取文件中指定列的数据并转化为字典(dict)\n",
    "3.转化为字典以后复制表格中的学生信息(print)\n",
    "4.作业中使用for循环来查找信息\n",
    "\n"
   ]
  },
  {
   "cell_type": "code",
   "execution_count": 76,
   "metadata": {},
   "outputs": [
    {
     "name": "stdout",
     "output_type": "stream",
     "text": [
      "[{'姓名': '许思勤', '学号': 'p221014505', 'Github仓库地址': 'https://github.com/qqliulian/liulianhao'}, {'姓名': '高娴', '学号': 'P221014587', 'Github仓库地址': 'https://github.com/gx530381/gxx'}, {'姓名': '周茂', '学号': 'P221014674', 'Github仓库地址': 'https://github.com/zzzzzmyou/1'}, {'姓名': '古颜', '学号': 'P221014641', 'Github仓库地址': 'https://github.com/luohuazhanbaiyi/111'}, {'姓名': '颜慈', '学号': 'P221014638', 'Github仓库地址': 'https://github.com/Yuxikkk/yyyc'}, {'姓名': '帕提古丽', '学号': 'P221014711', 'Github仓库地址': 'https://github.com/ptgl123/ptgl0000.git'}, {'姓名': '刘德鑫', '学号': 'P221014687', 'Github仓库地址': 'https://github.com/echo-2023chess/luxuriant.git'}, {'姓名': '阿依图提古丽·努尔买买提', '学号': 'P221016159', 'Github仓库地址': 'https://github.com/ayttgl/abc'}, {'姓名': '马晓琬', '学号': 'P221014487', 'Github仓库地址': 'https://github.com/abmxw/yori'}, {'姓名': '拉巴曲措', '学号': 'P221014494', 'Github仓库地址': 'https://github.com/rryy445566hh/tyujio9007'}, {'姓名': '秦文雅', '学号': 'P221014633', 'Github仓库地址': 'https://github.com/qinwenya/2017668014-qq.com'}, {'姓名': '   古丽妮尕尔', '学号': 'P221016162', 'Github仓库地址': 'https://github.com/3325517452/6841'}, {'姓名': '杨秀萱', '学号': 'P221014427', 'Github仓库地址': 'https://github.com/guirsnguise/wafagvg'}, {'姓名': '尼玛拉珍', '学号': 'P221014578', 'Github仓库地址': 'https://github.com/131708675/HOME'}, {'姓名': '李秋梅', '学号': 'P221014672', 'Github仓库地址': 'https://github.com/3053063553/pythonzuoye.git'}, {'姓名': '徐睿鲲', '学号': 'P221014520', 'Github仓库地址': 'https://github.com/huuggu/xuanxiu'}, {'姓名': '罗青云', '学号': 'P221014479', 'Github仓库地址': 'https://github.com/laoma12/home/commit/79ac562a2884e647ca06b2d71291cafb90672c8f'}, {'姓名': '徐艳丽', '学号': 'P221014516', 'Github仓库地址': 'https://github.com/Xuyanli-Hub/xuyanli'}, {'姓名': '林家宇·', '学号': 'P221014584', 'Github仓库地址': 'https://github.com/puishing/12345'}, {'姓名': '格珍', '学号': 'P221014664', 'Github仓库地址': 'https://github.com/defywgvucwhv/defywgvucwhv'}, {'姓名': '古颜', '学号': 'P221014641', 'Github仓库地址': 'https://github.com/luohuazhanbaiyi/hahaha'}, {'姓名': '周茂', '学号': 'P221014674', 'Github仓库地址': 'https://github.com/zzzzzmyou/zzzzzmyou1'}, {'姓名': '龙舒晴', '学号': 'P221014472', 'Github仓库地址': 'https://github.com/554108/lugetel'}, {'姓名': '张峰硕', '学号': 'p221014481', 'Github仓库地址': 'https://github.com/LitangGuailing/Litang.git'}, {'姓名': '单梅', '学号': 'P221014627', 'Github仓库地址': 'https://github.com/910318830/33'}, {'姓名': '李佳佳', '学号': 'P221014595', 'Github仓库地址': 'https://github.com/2012644838/homework'}, {'姓名': '拉巴曲措', '学号': 'P221014494', 'Github仓库地址': 'https://github.com/rryy445566hh/tyujio9007'}, {'姓名': '德丽巴尔·叶尔肯', '学号': 'P221016193', 'Github仓库地址': 'https://github.com/hulihutuao/dhomework'}, {'姓名': '蒙昱婕', '学号': 'P221014684', 'Github仓库地址': 'https://github.com/D5renge/mengyujie.git'}, {'姓名': '杜古尔加甫·莎仁图娅', '学号': 'P221014710', 'Github仓库地址': 'https://github.com/sharentuya/sharentuya.git'}, {'姓名': '张雨婷', '学号': 'P221014682', 'Github仓库地址': 'https://github.com/zythyszyq/hello.git'}, {'姓名': '李媛媛', '学号': 'P221014566', 'Github仓库地址': 'https://github.com/02Yyli/liy7uanyuan'}, {'姓名': '马君兰', '学号': 'P221014486', 'Github仓库地址': 'https://github.com/majunlan/aynnnnar'}, {'姓名': '姜雨廷', '学号': 'P221014653', 'Github仓库地址': 'https://github.com/Comlimen/Clementine'}, {'姓名': '李春阳', '学号': 'P221014716', 'Github仓库地址': 'https://github.com/edg7777777/edg7777777'}, {'姓名': '石文静', '学号': 'P221014712', 'Github仓库地址': 'https://github.com/wenjing999/wenjing'}, {'姓名': '古颜', '学号': 'P221014641', 'Github仓库地址': 'https://github.com/luohuazhanbaiyi/hahaha'}, {'姓名': '王倩', '学号': 'P221014474', 'Github仓库地址': 'https://github.com/lingjunji/statistic-2021'}, {'姓名': '韦亚琦', '学号': 'P221014597', 'Github仓库地址': 'https://github.com/weiyaqi1123/3289834600'}, {'姓名': '钟丽丽', '学号': 'P221014598', 'Github仓库地址': 'https://github.com/9zll/cat.git'}, {'姓名': '程超', '学号': 'P221014642', 'Github仓库地址': 'https://github.com/chengchao12/chao'}, {'姓名': '张骞月', '学号': 'P221014696', 'Github仓库地址': 'https://github.com/bbii00/bbii'}, {'姓名': '马小龙', '学号': 'p221014680', 'Github仓库地址': 'https://github.com/maxiao999/maxiao'}, {'姓名': '徐靖哲', '学号': 'P221014695', 'Github仓库地址': 'https://github.com/LiTangWang6/LiTang'}, {'姓名': '马心仪', '学号': 'P221014655', 'Github仓库地址': 'https://github.com/manshukesi/momo'}, {'姓名': '赵咪', '学号': 'P221014589', 'Github仓库地址': 'https://github.com/amor0613/7homework'}, {'姓名': '付竹', '学号': 'P221014482', 'Github仓库地址': 'https://github.com/yiyanglaurel/new-one'}, {'姓名': '莫崧晟', '学号': 'P221014683', 'Github仓库地址': 'https://github.com/mosongsheng/mm'}, {'姓名': '陈金玲', '学号': 'P221014689', 'Github仓库地址': 'https://github.com/Chenling2580/homework.git'}, {'姓名': '田旋', '学号': 'P221014650', 'Github仓库地址': 'https://github.com/2585615815/homework.git'}, {'姓名': '王佳陆', '学号': 'P221014700', 'Github仓库地址': 'https://gitee.com/lovewangyuan/lovewangyuan.git'}, {'姓名': '张穆紫', '学号': 'P221014693', 'Github仓库地址': 'https://github.com/1065953416/homework.git'}, {'姓名': '蓝苡榕', '学号': 'P221014511', 'Github仓库地址': 'https://github.com/lanyirongacyl/statistic'}, {'姓名': '李昱佳', '学号': 'P221014631', 'Github仓库地址': 'https://github.com/neodreamcity/nct2023'}, {'姓名': '德央', '学号': 'P221014580', 'Github仓库地址': 'https://github.com/638638/home'}, {'姓名': '付竹', '学号': 'P221014482', 'Github仓库地址': 'https://github.com/yiyanglaurel/new-one'}, {'姓名': '杜晓涵', '学号': 'P221014618', 'Github仓库地址': 'https://github.com/1223351431/AnnCLOUDS'}, {'姓名': '马心仪', '学号': 'P221014655', 'Github仓库地址': 'https://github.com/manshukesi/momo.git'}, {'姓名': '迪拉热·凯撒尔', '学号': 'P221014586', 'Github仓库地址': 'https://github.com/3031088667/supreme-broccoli'}, {'姓名': '李媛媛', '学号': 'P221014566', 'Github仓库地址': 'https://github.com/02Yyli/liy7uanyuan.git'}, {'姓名': '余静怡', '学号': 'P221014461', 'Github仓库地址': 'https://github.com/yujingyi11/kitty'}, {'姓名': '刘占森', '学号': 'P221014508', 'Github仓库地址': 'https://github.com/Anbnann/homework'}, {'姓名': '马君兰', '学号': 'P221014486', 'Github仓库地址': 'https://github.com/majunlan/aynnnar.git'}, {'姓名': '赵美亮', '学号': 'P221014502', 'Github仓库地址': ' https://github.com/zhaomeiliang/homework.git'}, {'姓名': '马晓琬', '学号': 'P221014487', 'Github仓库地址': 'https://github.com/abmxw/yori'}, {'姓名': '陈好', '学号': 'P221014490', 'Github仓库地址': 'https://github.com/vcvgv/vcvgv'}, {'姓名': '刘佳伊', '学号': 'P221014541', 'Github仓库地址': 'https://github.com/Katherine789/2023.8.30'}, {'姓名': '万栩恺', '学号': 'P221014515', 'Github仓库地址': 'https://github.com/522564718/van'}, {'姓名': '徐文佩', '学号': 'P221014478', 'Github仓库地址': 'https://github.com/nigudinzhen/nigudinzhen.git'}, {'姓名': '左日古丽白克', '学号': 'P221014539', 'Github仓库地址': 'https://github.com/zori0815/paaaa.git'}, {'姓名': '司诺', '学号': 'P220914024', 'Github仓库地址': 'https://github.com/OSBORRRN/SINOOO'}, {'姓名': '艾丽菲热·艾尔肯', '学号': 'P221014543', 'Github仓库地址': 'https://github.com/deeeeeeeeeer/alfira'}, {'姓名': '刘露', '学号': 'P221014513', 'Github仓库地址': 'https://github.com/Liuxiyayuan/liuchaoqian'}, {'姓名': '徐艳丽', '学号': 'P221014516', 'Github仓库地址': 'https://github.com/Xuyanli-Hub/xuyanli'}, {'姓名': '潘莹莹', '学号': 'P221014510', 'Github仓库地址': 'https://github.com/Penny39/panny.git'}, {'姓名': '张亚君', '学号': 'P221014446', 'Github仓库地址': 'https://github.com/zyj031214/zqlwx'}, {'姓名': '马枫羽', '学号': 'P221014542', 'Github仓库地址': 'https://github.com/MaFengyu/mfy'}, {'姓名': '许飞菲', '学号': 'P221014424', 'Github仓库地址': 'https://github.com/xffei/repos'}, {'姓名': '艾克丹', '学号': 'p221014452', 'Github仓库地址': 'https://github.com/akida2/AKIDA1'}, {'姓名': '张峰硕', '学号': 'P221014481', 'Github仓库地址': 'https://github.com/LitangGuailing/Litang.git'}, {'姓名': '罗青云', '学号': 'P221014479', 'Github仓库地址': 'https://github.com/laoma12/home'}, {'姓名': '余静怡', '学号': 'P221014461', 'Github仓库地址': 'https://github.com/yujingyi11/kitty'}, {'姓名': '罗朝婷', '学号': 'P221014430', 'Github仓库地址': 'https://github.com/zbnxhghg/zbnxhghg'}, {'姓名': '史竹然', '学号': 'P221014439', 'Github仓库地址': 'https://github.com/Lumen1015/Store-2023'}, {'姓名': '曾琳', '学号': 'P221014431', 'Github仓库地址': 'https://github.com/Lnyelnye/cautious-barnacle'}, {'姓名': '海雪', '学号': 'P221014419', 'Github仓库地址': 'https://github.com/shithiy/statistics-2023'}, {'姓名': '徐睿鲲', '学号': 'P221014520', 'Github仓库地址': 'https://github.com/huuggu/xuanxiu'}, {'姓名': '刘占森', '学号': 'P221014508', 'Github仓库地址': 'https://github.com/Anbnann/homework'}, {'姓名': '崔益广', '学号': 'P221014559', 'Github仓库地址': 'https://github.com/Anuibmlcu/cuizero'}, {'姓名': '吴娅蕾', '学号': 'P221014457', 'Github仓库地址': 'https://github.com/imAShiiiiiii/statistic-2023'}, {'姓名': '蓝苡榕', '学号': 'P221014511', 'Github仓库地址': 'https://github.com/lanyirongacyl/statistic'}]\n"
     ]
    }
   ],
   "source": [
    "import pandas as pd\n",
    "\n",
    "# 读取Excel文件\n",
    "原始数据 = R'000_《统计与数据分析》课程第一次作业收集_提交统计.xlsx'\n",
    "工作表 = '提交清单'\n",
    "列名列表 = ['姓名', '学号', 'Github仓库地址']\n",
    "\n",
    "# 读取指定列数据\n",
    "df = pd.read_excel(原始数据, sheet_name=工作表, usecols=列名列表)\n",
    "\n",
    "# 将数据转化为字典\n",
    "学生信息 = df.to_dict(orient='records')\n",
    "\n",
    "print(学生信息)"
   ]
  },
  {
   "cell_type": "code",
   "execution_count": 77,
   "metadata": {},
   "outputs": [
    {
     "name": "stdout",
     "output_type": "stream",
     "text": [
      "https://github.com/qinwenya/2017668014-qq.com\n"
     ]
    }
   ],
   "source": [
    "for i in 学生信息:\n",
    "    if i['学号'] == \"P221014633\":\n",
    "        print (i[\"Github仓库地址\"])"
   ]
  },
  {
   "cell_type": "code",
   "execution_count": 78,
   "metadata": {},
   "outputs": [],
   "source": [
    "def 查找学生仓库地址(学号,学生信息):\n",
    "    for i in 学生信息:\n",
    "        if i['学号'] == 学号:\n",
    "            return i['Github仓库地址']\n",
    "    return None"
   ]
  },
  {
   "cell_type": "code",
   "execution_count": 79,
   "metadata": {},
   "outputs": [
    {
     "data": {
      "text/plain": [
       "'https://github.com/qinwenya/2017668014-qq.com'"
      ]
     },
     "execution_count": 79,
     "metadata": {},
     "output_type": "execute_result"
    }
   ],
   "source": [
    "查找学生仓库地址('P221014633',学生信息)"
   ]
  },
  {
   "cell_type": "code",
   "execution_count": 80,
   "metadata": {},
   "outputs": [],
   "source": [
    "import requests\n",
    "from datetime import datetime\n",
    "\n",
    "def get_push_count(repo_url):\n",
    "    api_url = repo_url.replace(\"https://github.com/\", \"https://api.github.com/repos/\") + \"/commits\"\n",
    "    response = requests.get(api_url,verify=False)\n",
    "    data = response.json()\n",
    "    push_count = 0\n",
    "    push_date = None\n",
    "    for commit in data:\n",
    "        commit_time = datetime.strptime(commit['commit']['committer']['date'], '%Y-%m-%dT%H:%M:%SZ')\n",
    "        if push_date is None or commit_time > push_date:\n",
    "            push_date = commit_time\n",
    "            push_count = 1\n",
    "        elif commit_time == push_date:\n",
    "            push_count += 1\n",
    "            return push_count, push_date.strftime(\"%Y-%m-%d\")\n"
   ]
  },
  {
   "cell_type": "code",
   "execution_count": 81,
   "metadata": {},
   "outputs": [],
   "source": [
    "import requests\n",
    "from datetime import datetime\n",
    "\n",
    "def get_push_time(repo_url):\n",
    "    api_url = repo_url.replace(\"https://github.com/\", \"https://api.github.com/repos/\") + \"/commits\"\n",
    "    response = requests.get(api_url,verify=False)\n",
    "    data = response.json()\n",
    "    push_times = []\n",
    "    for commit in data:\n",
    "        commit_time = datetime.strptime(commit['commit']['committer']['date'], '%Y-%m-%dT%H:%M:%SZ')\n",
    "        push_times.append(commit_time)\n",
    "    return push_times\n"
   ]
  },
  {
   "cell_type": "code",
   "execution_count": 82,
   "metadata": {},
   "outputs": [
    {
     "name": "stderr",
     "output_type": "stream",
     "text": [
      "C:\\Users\\asus\\AppData\\Roaming\\Python\\Python38\\site-packages\\urllib3\\connectionpool.py:1095: InsecureRequestWarning: Unverified HTTPS request is being made to host 'api.github.com'. Adding certificate verification is strongly advised. See: https://urllib3.readthedocs.io/en/latest/advanced-usage.html#tls-warnings\n",
      "  warnings.warn(\n"
     ]
    }
   ],
   "source": [
    "get_push_count('https://github.com/qinwenya/2017668014-qq.com')"
   ]
  },
  {
   "cell_type": "code",
   "execution_count": 83,
   "metadata": {},
   "outputs": [],
   "source": [
    "import requests  \n",
    "  \n",
    "def is_repo_publicly_accessible(repo_url):  \n",
    "    response = requests.get(repo_url)  \n",
    "    return response.status_code == 200"
   ]
  },
  {
   "cell_type": "code",
   "execution_count": 84,
   "metadata": {},
   "outputs": [],
   "source": [
    "from git import Repo  \n",
    "from git.exc import GitCommandError  \n",
    "  \n",
    "def is_repo_publicly_accessible(repo_url):  \n",
    "    try:  \n",
    "        Repo.clone_from(repo_url, bare=True)  \n",
    "        return True  \n",
    "    except GitCommandError:  \n",
    "        return False"
   ]
  },
  {
   "cell_type": "code",
   "execution_count": 85,
   "metadata": {},
   "outputs": [],
   "source": [
    "import datetime  \n",
    "  \n",
    "due_date_str = '2023-09-01 23:55'  \n",
    "due_date = datetime.datetime.strptime(due_date_str, '%Y-%m-%d %H:%M')  \n",
    "  \n",
    "if due_date > datetime.datetime.now():  \n",
    "    time_score = 10  \n",
    "else:  \n",
    "    time_score = -10"
   ]
  },
  {
   "cell_type": "code",
   "execution_count": 87,
   "metadata": {},
   "outputs": [
    {
     "ename": "NameError",
     "evalue": "name 'repo_url' is not defined",
     "output_type": "error",
     "traceback": [
      "\u001b[1;31m---------------------------------------------------------------------------\u001b[0m",
      "\u001b[1;31mNameError\u001b[0m                                 Traceback (most recent call last)",
      "\u001b[1;32mc:\\Users\\asus\\Desktop\\2017668014-qq.com\\作业2-核心语法综合实践.ipynb 单元格 12\u001b[0m line \u001b[0;36m2\n\u001b[0;32m     <a href='vscode-notebook-cell:/c%3A/Users/asus/Desktop/2017668014-qq.com/%E4%BD%9C%E4%B8%9A2-%E6%A0%B8%E5%BF%83%E8%AF%AD%E6%B3%95%E7%BB%BC%E5%90%88%E5%AE%9E%E8%B7%B5.ipynb#X14sZmlsZQ%3D%3D?line=15'>16</a>\u001b[0m time_score \u001b[39m=\u001b[39m \u001b[39m-\u001b[39m\u001b[39m10\u001b[39m\n\u001b[0;32m     <a href='vscode-notebook-cell:/c%3A/Users/asus/Desktop/2017668014-qq.com/%E4%BD%9C%E4%B8%9A2-%E6%A0%B8%E5%BF%83%E8%AF%AD%E6%B3%95%E7%BB%BC%E5%90%88%E5%AE%9E%E8%B7%B5.ipynb#X14sZmlsZQ%3D%3D?line=16'>17</a>\u001b[0m \u001b[39m# 检查是否按时提交  \u001b[39;00m\n\u001b[0;32m     <a href='vscode-notebook-cell:/c%3A/Users/asus/Desktop/2017668014-qq.com/%E4%BD%9C%E4%B8%9A2-%E6%A0%B8%E5%BF%83%E8%AF%AD%E6%B3%95%E7%BB%BC%E5%90%88%E5%AE%9E%E8%B7%B5.ipynb#X14sZmlsZQ%3D%3D?line=17'>18</a>\u001b[0m \n\u001b[0;32m     <a href='vscode-notebook-cell:/c%3A/Users/asus/Desktop/2017668014-qq.com/%E4%BD%9C%E4%B8%9A2-%E6%A0%B8%E5%BF%83%E8%AF%AD%E6%B3%95%E7%BB%BC%E5%90%88%E5%AE%9E%E8%B7%B5.ipynb#X14sZmlsZQ%3D%3D?line=18'>19</a>\u001b[0m \u001b[39m# 检查仓库是否公开可访问  \u001b[39;00m\n\u001b[1;32m---> <a href='vscode-notebook-cell:/c%3A/Users/asus/Desktop/2017668014-qq.com/%E4%BD%9C%E4%B8%9A2-%E6%A0%B8%E5%BF%83%E8%AF%AD%E6%B3%95%E7%BB%BC%E5%90%88%E5%AE%9E%E8%B7%B5.ipynb#X14sZmlsZQ%3D%3D?line=19'>20</a>\u001b[0m \u001b[39mif\u001b[39;00m is_repo_publicly_accessible(repo_url):  \n\u001b[0;32m     <a href='vscode-notebook-cell:/c%3A/Users/asus/Desktop/2017668014-qq.com/%E4%BD%9C%E4%B8%9A2-%E6%A0%B8%E5%BF%83%E8%AF%AD%E6%B3%95%E7%BB%BC%E5%90%88%E5%AE%9E%E8%B7%B5.ipynb#X14sZmlsZQ%3D%3D?line=20'>21</a>\u001b[0m     accessibility_score \u001b[39m=\u001b[39m \u001b[39m10\u001b[39m  \n\u001b[0;32m     <a href='vscode-notebook-cell:/c%3A/Users/asus/Desktop/2017668014-qq.com/%E4%BD%9C%E4%B8%9A2-%E6%A0%B8%E5%BF%83%E8%AF%AD%E6%B3%95%E7%BB%BC%E5%90%88%E5%AE%9E%E8%B7%B5.ipynb#X14sZmlsZQ%3D%3D?line=21'>22</a>\u001b[0m \u001b[39melse\u001b[39;00m:  \n",
      "\u001b[1;31mNameError\u001b[0m: name 'repo_url' is not defined"
     ]
    }
   ],
   "source": [
    "def grade_first_assignment(student_info, due_date):  \n",
    "    for student in student_info:  \n",
    "        if student['学号'] == 'P221014633':  # 你需要替换这里的'指定学号'  \n",
    "            repo_url = student['仓库地址']  # 仓库地址  \n",
    "            break  # 找到指定的学生后跳出循环  \n",
    "    else:  # 如果没有找到指定的学生  \n",
    "        return None  \n",
    "import datetime  \n",
    "  \n",
    "due_date_str = '2023-09-01 23:55'  \n",
    "due_date = datetime.datetime.strptime(due_date_str, '%Y-%m-%d %H:%M')  \n",
    "  \n",
    "if due_date > datetime.datetime.now():  \n",
    "    time_score = 10  \n",
    "else:  \n",
    "    time_score = -10\n",
    "    # 检查是否按时提交  \n",
    "  \n",
    "    # 检查仓库是否公开可访问  \n",
    "    if is_repo_publicly_accessible(repo_url):  \n",
    "        accessibility_score = 10  \n",
    "    else:  \n",
    "        accessibility_score = 4  \n",
    "  \n",
    "    # 计算总分  \n",
    "    def calculate_score(student_info):  \n",
    "    # 一些计算分数的逻辑  \n",
    "     total_score = 100  # 假设这是计算的结果  \n",
    "     return total_score"
   ]
  }
 ],
 "metadata": {
  "kernelspec": {
   "display_name": "Python 3",
   "language": "python",
   "name": "python3"
  },
  "language_info": {
   "codemirror_mode": {
    "name": "ipython",
    "version": 3
   },
   "file_extension": ".py",
   "mimetype": "text/x-python",
   "name": "python",
   "nbconvert_exporter": "python",
   "pygments_lexer": "ipython3",
   "version": "3.8.10"
  },
  "orig_nbformat": 4
 },
 "nbformat": 4,
 "nbformat_minor": 2
}
