{
 "cells": [
  {
   "cell_type": "markdown",
   "metadata": {},
   "source": [
    "1.在VS Code中打开文件《统计与数据分析》课程第一次作业收集.xlsx \n",
    "2.然后引入pandas包，读取文件《统计与数据分析》课程第一次作业收集.xlsx，接着读取文件中指定列的数据并转化为字典(dict)\n",
    "3.转化为字典以后复制表格中的学生信息(print)\n",
    "4.作业中使用for循环来查找信息\n",
    "\n"
   ]
  },
  {
   "cell_type": "code",
   "execution_count": 1,
   "metadata": {},
   "outputs": [
    {
     "ename": "FileNotFoundError",
     "evalue": "[Errno 2] No such file or directory: '000_《统计与数据分析》课程第一次作业收集_提交统计.xlsx'",
     "output_type": "error",
     "traceback": [
      "\u001b[1;31m---------------------------------------------------------------------------\u001b[0m",
      "\u001b[1;31mFileNotFoundError\u001b[0m                         Traceback (most recent call last)",
      "\u001b[1;32mc:\\Users\\asus\\Desktop\\2017668014-qq.com\\作业2-核心语法综合实践.ipynb 单元格 2\u001b[0m line \u001b[0;36m9\n\u001b[0;32m      <a href='vscode-notebook-cell:/c%3A/Users/asus/Desktop/2017668014-qq.com/%E4%BD%9C%E4%B8%9A2-%E6%A0%B8%E5%BF%83%E8%AF%AD%E6%B3%95%E7%BB%BC%E5%90%88%E5%AE%9E%E8%B7%B5.ipynb#W1sZmlsZQ%3D%3D?line=5'>6</a>\u001b[0m 列名列表 \u001b[39m=\u001b[39m [\u001b[39m'\u001b[39m\u001b[39m姓名\u001b[39m\u001b[39m'\u001b[39m, \u001b[39m'\u001b[39m\u001b[39m学号\u001b[39m\u001b[39m'\u001b[39m, \u001b[39m'\u001b[39m\u001b[39mGithub仓库地址\u001b[39m\u001b[39m'\u001b[39m]\n\u001b[0;32m      <a href='vscode-notebook-cell:/c%3A/Users/asus/Desktop/2017668014-qq.com/%E4%BD%9C%E4%B8%9A2-%E6%A0%B8%E5%BF%83%E8%AF%AD%E6%B3%95%E7%BB%BC%E5%90%88%E5%AE%9E%E8%B7%B5.ipynb#W1sZmlsZQ%3D%3D?line=7'>8</a>\u001b[0m \u001b[39m# 读取指定列数据\u001b[39;00m\n\u001b[1;32m----> <a href='vscode-notebook-cell:/c%3A/Users/asus/Desktop/2017668014-qq.com/%E4%BD%9C%E4%B8%9A2-%E6%A0%B8%E5%BF%83%E8%AF%AD%E6%B3%95%E7%BB%BC%E5%90%88%E5%AE%9E%E8%B7%B5.ipynb#W1sZmlsZQ%3D%3D?line=8'>9</a>\u001b[0m df \u001b[39m=\u001b[39m pd\u001b[39m.\u001b[39;49mread_excel(原始数据, sheet_name\u001b[39m=\u001b[39;49m工作表, usecols\u001b[39m=\u001b[39;49m列名列表)\n\u001b[0;32m     <a href='vscode-notebook-cell:/c%3A/Users/asus/Desktop/2017668014-qq.com/%E4%BD%9C%E4%B8%9A2-%E6%A0%B8%E5%BF%83%E8%AF%AD%E6%B3%95%E7%BB%BC%E5%90%88%E5%AE%9E%E8%B7%B5.ipynb#W1sZmlsZQ%3D%3D?line=10'>11</a>\u001b[0m \u001b[39m# 将数据转化为字典\u001b[39;00m\n\u001b[0;32m     <a href='vscode-notebook-cell:/c%3A/Users/asus/Desktop/2017668014-qq.com/%E4%BD%9C%E4%B8%9A2-%E6%A0%B8%E5%BF%83%E8%AF%AD%E6%B3%95%E7%BB%BC%E5%90%88%E5%AE%9E%E8%B7%B5.ipynb#W1sZmlsZQ%3D%3D?line=11'>12</a>\u001b[0m 学生信息 \u001b[39m=\u001b[39m df\u001b[39m.\u001b[39mto_dict(orient\u001b[39m=\u001b[39m\u001b[39m'\u001b[39m\u001b[39mrecords\u001b[39m\u001b[39m'\u001b[39m)\n",
      "File \u001b[1;32m~\\AppData\\Roaming\\Python\\Python38\\site-packages\\pandas\\io\\excel\\_base.py:478\u001b[0m, in \u001b[0;36mread_excel\u001b[1;34m(io, sheet_name, header, names, index_col, usecols, dtype, engine, converters, true_values, false_values, skiprows, nrows, na_values, keep_default_na, na_filter, verbose, parse_dates, date_parser, date_format, thousands, decimal, comment, skipfooter, storage_options, dtype_backend)\u001b[0m\n\u001b[0;32m    476\u001b[0m \u001b[39mif\u001b[39;00m \u001b[39mnot\u001b[39;00m \u001b[39misinstance\u001b[39m(io, ExcelFile):\n\u001b[0;32m    477\u001b[0m     should_close \u001b[39m=\u001b[39m \u001b[39mTrue\u001b[39;00m\n\u001b[1;32m--> 478\u001b[0m     io \u001b[39m=\u001b[39m ExcelFile(io, storage_options\u001b[39m=\u001b[39;49mstorage_options, engine\u001b[39m=\u001b[39;49mengine)\n\u001b[0;32m    479\u001b[0m \u001b[39melif\u001b[39;00m engine \u001b[39mand\u001b[39;00m engine \u001b[39m!=\u001b[39m io\u001b[39m.\u001b[39mengine:\n\u001b[0;32m    480\u001b[0m     \u001b[39mraise\u001b[39;00m \u001b[39mValueError\u001b[39;00m(\n\u001b[0;32m    481\u001b[0m         \u001b[39m\"\u001b[39m\u001b[39mEngine should not be specified when passing \u001b[39m\u001b[39m\"\u001b[39m\n\u001b[0;32m    482\u001b[0m         \u001b[39m\"\u001b[39m\u001b[39man ExcelFile - ExcelFile already has the engine set\u001b[39m\u001b[39m\"\u001b[39m\n\u001b[0;32m    483\u001b[0m     )\n",
      "File \u001b[1;32m~\\AppData\\Roaming\\Python\\Python38\\site-packages\\pandas\\io\\excel\\_base.py:1496\u001b[0m, in \u001b[0;36mExcelFile.__init__\u001b[1;34m(self, path_or_buffer, engine, storage_options)\u001b[0m\n\u001b[0;32m   1494\u001b[0m     ext \u001b[39m=\u001b[39m \u001b[39m\"\u001b[39m\u001b[39mxls\u001b[39m\u001b[39m\"\u001b[39m\n\u001b[0;32m   1495\u001b[0m \u001b[39melse\u001b[39;00m:\n\u001b[1;32m-> 1496\u001b[0m     ext \u001b[39m=\u001b[39m inspect_excel_format(\n\u001b[0;32m   1497\u001b[0m         content_or_path\u001b[39m=\u001b[39;49mpath_or_buffer, storage_options\u001b[39m=\u001b[39;49mstorage_options\n\u001b[0;32m   1498\u001b[0m     )\n\u001b[0;32m   1499\u001b[0m     \u001b[39mif\u001b[39;00m ext \u001b[39mis\u001b[39;00m \u001b[39mNone\u001b[39;00m:\n\u001b[0;32m   1500\u001b[0m         \u001b[39mraise\u001b[39;00m \u001b[39mValueError\u001b[39;00m(\n\u001b[0;32m   1501\u001b[0m             \u001b[39m\"\u001b[39m\u001b[39mExcel file format cannot be determined, you must specify \u001b[39m\u001b[39m\"\u001b[39m\n\u001b[0;32m   1502\u001b[0m             \u001b[39m\"\u001b[39m\u001b[39man engine manually.\u001b[39m\u001b[39m\"\u001b[39m\n\u001b[0;32m   1503\u001b[0m         )\n",
      "File \u001b[1;32m~\\AppData\\Roaming\\Python\\Python38\\site-packages\\pandas\\io\\excel\\_base.py:1371\u001b[0m, in \u001b[0;36minspect_excel_format\u001b[1;34m(content_or_path, storage_options)\u001b[0m\n\u001b[0;32m   1368\u001b[0m \u001b[39mif\u001b[39;00m \u001b[39misinstance\u001b[39m(content_or_path, \u001b[39mbytes\u001b[39m):\n\u001b[0;32m   1369\u001b[0m     content_or_path \u001b[39m=\u001b[39m BytesIO(content_or_path)\n\u001b[1;32m-> 1371\u001b[0m \u001b[39mwith\u001b[39;00m get_handle(\n\u001b[0;32m   1372\u001b[0m     content_or_path, \u001b[39m\"\u001b[39;49m\u001b[39mrb\u001b[39;49m\u001b[39m\"\u001b[39;49m, storage_options\u001b[39m=\u001b[39;49mstorage_options, is_text\u001b[39m=\u001b[39;49m\u001b[39mFalse\u001b[39;49;00m\n\u001b[0;32m   1373\u001b[0m ) \u001b[39mas\u001b[39;00m handle:\n\u001b[0;32m   1374\u001b[0m     stream \u001b[39m=\u001b[39m handle\u001b[39m.\u001b[39mhandle\n\u001b[0;32m   1375\u001b[0m     stream\u001b[39m.\u001b[39mseek(\u001b[39m0\u001b[39m)\n",
      "File \u001b[1;32m~\\AppData\\Roaming\\Python\\Python38\\site-packages\\pandas\\io\\common.py:868\u001b[0m, in \u001b[0;36mget_handle\u001b[1;34m(path_or_buf, mode, encoding, compression, memory_map, is_text, errors, storage_options)\u001b[0m\n\u001b[0;32m    859\u001b[0m         handle \u001b[39m=\u001b[39m \u001b[39mopen\u001b[39m(\n\u001b[0;32m    860\u001b[0m             handle,\n\u001b[0;32m    861\u001b[0m             ioargs\u001b[39m.\u001b[39mmode,\n\u001b[1;32m   (...)\u001b[0m\n\u001b[0;32m    864\u001b[0m             newline\u001b[39m=\u001b[39m\u001b[39m\"\u001b[39m\u001b[39m\"\u001b[39m,\n\u001b[0;32m    865\u001b[0m         )\n\u001b[0;32m    866\u001b[0m     \u001b[39melse\u001b[39;00m:\n\u001b[0;32m    867\u001b[0m         \u001b[39m# Binary mode\u001b[39;00m\n\u001b[1;32m--> 868\u001b[0m         handle \u001b[39m=\u001b[39m \u001b[39mopen\u001b[39;49m(handle, ioargs\u001b[39m.\u001b[39;49mmode)\n\u001b[0;32m    869\u001b[0m     handles\u001b[39m.\u001b[39mappend(handle)\n\u001b[0;32m    871\u001b[0m \u001b[39m# Convert BytesIO or file objects passed with an encoding\u001b[39;00m\n",
      "\u001b[1;31mFileNotFoundError\u001b[0m: [Errno 2] No such file or directory: '000_《统计与数据分析》课程第一次作业收集_提交统计.xlsx'"
     ]
    }
   ],
   "source": [
    "import pandas as pd\n",
    "\n",
    "# 读取Excel文件\n",
    "原始数据 = R'000_《统计与数据分析》课程第一次作业收集_提交统计.xlsx'\n",
    "工作表 = '提交清单'\n",
    "列名列表 = ['姓名', '学号', 'Github仓库地址']\n",
    "\n",
    "# 读取指定列数据\n",
    "df = pd.read_excel(原始数据, sheet_name=工作表, usecols=列名列表)\n",
    "\n",
    "# 将数据转化为字典\n",
    "学生信息 = df.to_dict(orient='records')\n",
    "\n",
    "print(学生信息)"
   ]
  },
  {
   "cell_type": "code",
   "execution_count": null,
   "metadata": {},
   "outputs": [
    {
     "name": "stdout",
     "output_type": "stream",
     "text": [
      "https://github.com/qinwenya/2017668014-qq.com\n"
     ]
    }
   ],
   "source": [
    "for i in 学生信息:\n",
    "    if i['学号'] == \"P221014633\":\n",
    "        print (i[\"Github仓库地址\"])"
   ]
  },
  {
   "cell_type": "code",
   "execution_count": null,
   "metadata": {},
   "outputs": [],
   "source": [
    "def 查找学生仓库地址(学号,学生信息):\n",
    "    for i in 学生信息:\n",
    "        if i['学号'] == 学号:\n",
    "            return i['Github仓库地址']\n",
    "    return None"
   ]
  },
  {
   "cell_type": "code",
   "execution_count": null,
   "metadata": {},
   "outputs": [
    {
     "data": {
      "text/plain": [
       "'https://github.com/qinwenya/2017668014-qq.com'"
      ]
     },
     "execution_count": 79,
     "metadata": {},
     "output_type": "execute_result"
    }
   ],
   "source": [
    "查找学生仓库地址('P221014633',学生信息)"
   ]
  },
  {
   "cell_type": "code",
   "execution_count": null,
   "metadata": {},
   "outputs": [],
   "source": [
    "import requests\n",
    "from datetime import datetime\n",
    "\n",
    "def get_push_count(repo_url):\n",
    "    api_url = repo_url.replace(\"https://github.com/\", \"https://api.github.com/repos/\") + \"/commits\"\n",
    "    response = requests.get(api_url,verify=False)\n",
    "    data = response.json()\n",
    "    push_count = 0\n",
    "    push_date = None\n",
    "    for commit in data:\n",
    "        commit_time = datetime.strptime(commit['commit']['committer']['date'], '%Y-%m-%dT%H:%M:%SZ')\n",
    "        if push_date is None or commit_time > push_date:\n",
    "            push_date = commit_time\n",
    "            push_count = 1\n",
    "        elif commit_time == push_date:\n",
    "            push_count += 1\n",
    "            return push_count, push_date.strftime(\"%Y-%m-%d\")\n"
   ]
  },
  {
   "cell_type": "code",
   "execution_count": null,
   "metadata": {},
   "outputs": [],
   "source": [
    "import requests\n",
    "from datetime import datetime\n",
    "\n",
    "def get_push_time(repo_url):\n",
    "    api_url = repo_url.replace(\"https://github.com/\", \"https://api.github.com/repos/\") + \"/commits\"\n",
    "    response = requests.get(api_url,verify=False)\n",
    "    data = response.json()\n",
    "    push_times = []\n",
    "    for commit in data:\n",
    "        commit_time = datetime.strptime(commit['commit']['committer']['date'], '%Y-%m-%dT%H:%M:%SZ')\n",
    "        push_times.append(commit_time)\n",
    "    return push_times\n"
   ]
  },
  {
   "cell_type": "code",
   "execution_count": null,
   "metadata": {},
   "outputs": [
    {
     "name": "stderr",
     "output_type": "stream",
     "text": [
      "C:\\Users\\asus\\AppData\\Roaming\\Python\\Python38\\site-packages\\urllib3\\connectionpool.py:1095: InsecureRequestWarning: Unverified HTTPS request is being made to host 'api.github.com'. Adding certificate verification is strongly advised. See: https://urllib3.readthedocs.io/en/latest/advanced-usage.html#tls-warnings\n",
      "  warnings.warn(\n"
     ]
    }
   ],
   "source": [
    "get_push_count('https://github.com/qinwenya/2017668014-qq.com')"
   ]
  },
  {
   "cell_type": "code",
   "execution_count": null,
   "metadata": {},
   "outputs": [],
   "source": [
    "import requests  \n",
    "  \n",
    "def is_repo_publicly_accessible(repo_url):  \n",
    "    response = requests.get(repo_url)  \n",
    "    return response.status_code == 200"
   ]
  },
  {
   "cell_type": "code",
   "execution_count": null,
   "metadata": {},
   "outputs": [],
   "source": [
    "from git import Repo  \n",
    "from git.exc import GitCommandError  \n",
    "  \n",
    "def is_repo_publicly_accessible(repo_url):  \n",
    "    try:  \n",
    "        Repo.clone_from(repo_url, bare=True)  \n",
    "        return True  \n",
    "    except GitCommandError:  \n",
    "        return False"
   ]
  },
  {
   "cell_type": "code",
   "execution_count": null,
   "metadata": {},
   "outputs": [],
   "source": [
    "import datetime  \n",
    "  \n",
    "due_date_str = '2023-09-01 23:55'  \n",
    "due_date = datetime.datetime.strptime(due_date_str, '%Y-%m-%d %H:%M')  \n",
    "  \n",
    "if due_date > datetime.datetime.now():  \n",
    "    time_score = 10  \n",
    "else:  \n",
    "    time_score = -10"
   ]
  },
  {
   "cell_type": "code",
   "execution_count": null,
   "metadata": {},
   "outputs": [
    {
     "ename": "NameError",
     "evalue": "name 'repo_url' is not defined",
     "output_type": "error",
     "traceback": [
      "\u001b[1;31m---------------------------------------------------------------------------\u001b[0m",
      "\u001b[1;31mNameError\u001b[0m                                 Traceback (most recent call last)",
      "\u001b[1;32mc:\\Users\\asus\\Desktop\\2017668014-qq.com\\作业2-核心语法综合实践.ipynb 单元格 12\u001b[0m line \u001b[0;36m2\n\u001b[0;32m     <a href='vscode-notebook-cell:/c%3A/Users/asus/Desktop/2017668014-qq.com/%E4%BD%9C%E4%B8%9A2-%E6%A0%B8%E5%BF%83%E8%AF%AD%E6%B3%95%E7%BB%BC%E5%90%88%E5%AE%9E%E8%B7%B5.ipynb#X14sZmlsZQ%3D%3D?line=15'>16</a>\u001b[0m time_score \u001b[39m=\u001b[39m \u001b[39m-\u001b[39m\u001b[39m10\u001b[39m\n\u001b[0;32m     <a href='vscode-notebook-cell:/c%3A/Users/asus/Desktop/2017668014-qq.com/%E4%BD%9C%E4%B8%9A2-%E6%A0%B8%E5%BF%83%E8%AF%AD%E6%B3%95%E7%BB%BC%E5%90%88%E5%AE%9E%E8%B7%B5.ipynb#X14sZmlsZQ%3D%3D?line=16'>17</a>\u001b[0m \u001b[39m# 检查是否按时提交  \u001b[39;00m\n\u001b[0;32m     <a href='vscode-notebook-cell:/c%3A/Users/asus/Desktop/2017668014-qq.com/%E4%BD%9C%E4%B8%9A2-%E6%A0%B8%E5%BF%83%E8%AF%AD%E6%B3%95%E7%BB%BC%E5%90%88%E5%AE%9E%E8%B7%B5.ipynb#X14sZmlsZQ%3D%3D?line=17'>18</a>\u001b[0m \n\u001b[0;32m     <a href='vscode-notebook-cell:/c%3A/Users/asus/Desktop/2017668014-qq.com/%E4%BD%9C%E4%B8%9A2-%E6%A0%B8%E5%BF%83%E8%AF%AD%E6%B3%95%E7%BB%BC%E5%90%88%E5%AE%9E%E8%B7%B5.ipynb#X14sZmlsZQ%3D%3D?line=18'>19</a>\u001b[0m \u001b[39m# 检查仓库是否公开可访问  \u001b[39;00m\n\u001b[1;32m---> <a href='vscode-notebook-cell:/c%3A/Users/asus/Desktop/2017668014-qq.com/%E4%BD%9C%E4%B8%9A2-%E6%A0%B8%E5%BF%83%E8%AF%AD%E6%B3%95%E7%BB%BC%E5%90%88%E5%AE%9E%E8%B7%B5.ipynb#X14sZmlsZQ%3D%3D?line=19'>20</a>\u001b[0m \u001b[39mif\u001b[39;00m is_repo_publicly_accessible(repo_url):  \n\u001b[0;32m     <a href='vscode-notebook-cell:/c%3A/Users/asus/Desktop/2017668014-qq.com/%E4%BD%9C%E4%B8%9A2-%E6%A0%B8%E5%BF%83%E8%AF%AD%E6%B3%95%E7%BB%BC%E5%90%88%E5%AE%9E%E8%B7%B5.ipynb#X14sZmlsZQ%3D%3D?line=20'>21</a>\u001b[0m     accessibility_score \u001b[39m=\u001b[39m \u001b[39m10\u001b[39m  \n\u001b[0;32m     <a href='vscode-notebook-cell:/c%3A/Users/asus/Desktop/2017668014-qq.com/%E4%BD%9C%E4%B8%9A2-%E6%A0%B8%E5%BF%83%E8%AF%AD%E6%B3%95%E7%BB%BC%E5%90%88%E5%AE%9E%E8%B7%B5.ipynb#X14sZmlsZQ%3D%3D?line=21'>22</a>\u001b[0m \u001b[39melse\u001b[39;00m:  \n",
      "\u001b[1;31mNameError\u001b[0m: name 'repo_url' is not defined"
     ]
    }
   ],
   "source": [
    "def grade_first_assignment(student_info, due_date):  \n",
    "    for student in student_info:  \n",
    "        if student['学号'] == 'P221014633':  # 你需要替换这里的'指定学号'  \n",
    "            repo_url = student['仓库地址']  # 仓库地址  \n",
    "            break  # 找到指定的学生后跳出循环  \n",
    "    else:  # 如果没有找到指定的学生  \n",
    "        return None  \n",
    "import datetime  \n",
    "  \n",
    "due_date_str = '2023-09-01 23:55'  \n",
    "due_date = datetime.datetime.strptime(due_date_str, '%Y-%m-%d %H:%M')  \n",
    "  \n",
    "if due_date > datetime.datetime.now():  \n",
    "    time_score = 10  \n",
    "else:  \n",
    "    time_score = -10\n",
    "    # 检查是否按时提交  \n",
    "  \n",
    "    # 检查仓库是否公开可访问  \n",
    "    if is_repo_publicly_accessible(repo_url):  \n",
    "        accessibility_score = 10  \n",
    "    else:  \n",
    "        accessibility_score = 4  \n",
    "  \n",
    "    # 计算总分  \n",
    "    def calculate_score(student_info):  \n",
    "    # 一些计算分数的逻辑  \n",
    "     total_score = 100  # 假设这是计算的结果  \n",
    "     return total_score"
   ]
  }
 ],
 "metadata": {
  "kernelspec": {
   "display_name": "Python 3",
   "language": "python",
   "name": "python3"
  },
  "language_info": {
   "codemirror_mode": {
    "name": "ipython",
    "version": 3
   },
   "file_extension": ".py",
   "mimetype": "text/x-python",
   "name": "python",
   "nbconvert_exporter": "python",
   "pygments_lexer": "ipython3",
   "version": "3.8.10"
  },
  "orig_nbformat": 4
 },
 "nbformat": 4,
 "nbformat_minor": 2
}
