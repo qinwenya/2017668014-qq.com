{
 "cells": [
  {
   "cell_type": "code",
   "execution_count": 1,
   "metadata": {},
   "outputs": [],
   "source": [
    "import pandas as pd\n",
    "import numpy as np"
   ]
  },
  {
   "cell_type": "code",
   "execution_count": 2,
   "metadata": {},
   "outputs": [],
   "source": [
    "# 任务1: 将列表转化为Numpy数组\n",
    "data0 = [2, 4, 6.5, 8]\n",
    "arr0 = np.array(data0)"
   ]
  },
  {
   "cell_type": "code",
   "execution_count": 3,
   "metadata": {},
   "outputs": [],
   "source": [
    "# 任务2: 新建Pandas中的Series数据类型，打印出其大小、索引值、值"
   ]
  },
  {
   "cell_type": "code",
   "execution_count": 4,
   "metadata": {},
   "outputs": [],
   "source": [
    "# pandas中的Series数据类型\n",
    "s = pd.Series(data=[100, 'a', {'dic1':5}],\n",
    "              index=pd.Index(['id1',20, 'third'], name='my_idx'),\n",
    "              dtype='object',\n",
    "              name='my_name')\n",
    "#（）前面有名称的是函数，括号里的是参数"
   ]
  },
  {
   "cell_type": "markdown",
   "metadata": {},
   "source": [
    "#位置参数和关键参数"
   ]
  },
  {
   "cell_type": "code",
   "execution_count": 5,
   "metadata": {},
   "outputs": [],
   "source": [
    "#单个变量Series,多个变量DataFrame"
   ]
  },
  {
   "cell_type": "code",
   "execution_count": 6,
   "metadata": {},
   "outputs": [],
   "source": [
    "s2 = pd.Series([\"1\",\"2\",\"3\",\"4\"])"
   ]
  },
  {
   "cell_type": "code",
   "execution_count": 7,
   "metadata": {},
   "outputs": [
    {
     "data": {
      "text/plain": [
       "array([0, 1, 2, 3], dtype=int64)"
      ]
     },
     "execution_count": 7,
     "metadata": {},
     "output_type": "execute_result"
    }
   ],
   "source": [
    "s2.index.values\n",
    "#.后的是属性，"
   ]
  },
  {
   "cell_type": "code",
   "execution_count": 8,
   "metadata": {},
   "outputs": [
    {
     "data": {
      "text/plain": [
       "int"
      ]
     },
     "execution_count": 8,
     "metadata": {},
     "output_type": "execute_result"
    }
   ],
   "source": [
    "type(s.values[0])"
   ]
  },
  {
   "cell_type": "code",
   "execution_count": 9,
   "metadata": {},
   "outputs": [
    {
     "data": {
      "text/plain": [
       "3"
      ]
     },
     "execution_count": 9,
     "metadata": {},
     "output_type": "execute_result"
    }
   ],
   "source": [
    "s.size"
   ]
  },
  {
   "cell_type": "code",
   "execution_count": 10,
   "metadata": {},
   "outputs": [
    {
     "data": {
      "text/plain": [
       "(3,)"
      ]
     },
     "execution_count": 10,
     "metadata": {},
     "output_type": "execute_result"
    }
   ],
   "source": [
    "s.shape"
   ]
  },
  {
   "cell_type": "code",
   "execution_count": 11,
   "metadata": {},
   "outputs": [],
   "source": [
    "# 任务3: 创建DataFrame类型的数据，并获取其索引、值及表大小\n",
    "d = {\n",
    "    \"one\": pd.Series([1.0, 2.0, 3.0],index=[\"a\",\"b\",\"c\"]),\n",
    "    \"two\":pd.Series([1.0, 2.0, 3.0],index=[\"a\",\"b\",\"c\"]),\n",
    "    }\n",
    "df = pd.DataFrame(d)"
   ]
  },
  {
   "cell_type": "code",
   "execution_count": 12,
   "metadata": {},
   "outputs": [],
   "source": [
    "#\"one\"是字符串\n",
    "#{\"one\": pd.Series([1.0, 2.0, 3.0],index=[\"a\",\"b\",\"c\"]),\n",
    "#\"two\":pd.Series([1.0, 2.0, 3.0],index=[\"a\",\"b\",\"c\"]),}是字典\n",
    "#\"one\"是key,pd.Series([1.0, 2.0, 3.0],index=[\"a\",\"b\",\"c\"]),是value\n",
    "#d = {\"one\": pd.Series([1.0, 2.0, 3.0],index=[\"a\",\"b\",\"c\"]),\"two\":pd.Series([1.0, 2.0, 3.0],index=[\"a\",\"b\",\"c\"]),}是赋值表达式\n",
    "#df = pd.DataFrame(d)函数返回值的容器"
   ]
  },
  {
   "cell_type": "code",
   "execution_count": 13,
   "metadata": {},
   "outputs": [],
   "source": [
    "d1 = {\n",
    "    \"作者\": pd.Series(['余华','残雪' ,'莫言']),\n",
    "    \"作品\": pd.Series(['活着','暗夜','红高粱']),\n",
    "    \"价格\": pd.Series([35,72,38]),                                        \n",
    "}\n",
    "df2 = pd.DataFrame(d1)"
   ]
  },
  {
   "cell_type": "code",
   "execution_count": 14,
   "metadata": {},
   "outputs": [],
   "source": [
    "#\"作者\"字符串，pd.Series(['余华','残雪' ,'莫言'])函数返回值，系列\n",
    "#df2 = pd.DataFrame(d1)赋值表达式，"
   ]
  },
  {
   "cell_type": "code",
   "execution_count": 15,
   "metadata": {},
   "outputs": [
    {
     "data": {
      "text/plain": [
       "array([0, 1, 2], dtype=int64)"
      ]
     },
     "execution_count": 15,
     "metadata": {},
     "output_type": "execute_result"
    }
   ],
   "source": [
    "df2.index.values"
   ]
  },
  {
   "cell_type": "code",
   "execution_count": 16,
   "metadata": {},
   "outputs": [
    {
     "data": {
      "text/plain": [
       "(3, 3)"
      ]
     },
     "execution_count": 16,
     "metadata": {},
     "output_type": "execute_result"
    }
   ],
   "source": [
    "df2.shape"
   ]
  },
  {
   "cell_type": "code",
   "execution_count": 17,
   "metadata": {},
   "outputs": [
    {
     "data": {
      "text/plain": [
       "9"
      ]
     },
     "execution_count": 17,
     "metadata": {},
     "output_type": "execute_result"
    }
   ],
   "source": [
    "df2.size"
   ]
  },
  {
   "cell_type": "code",
   "execution_count": 18,
   "metadata": {},
   "outputs": [
    {
     "data": {
      "text/plain": [
       "0     活着\n",
       "1     暗夜\n",
       "2    红高粱\n",
       "Name: 作品, dtype: object"
      ]
     },
     "execution_count": 18,
     "metadata": {},
     "output_type": "execute_result"
    }
   ],
   "source": [
    "df2['作品']\n",
    "#将列的名字传进去，将会得到表格中的这一列，是列索引，按列查询数据"
   ]
  },
  {
   "cell_type": "code",
   "execution_count": 19,
   "metadata": {},
   "outputs": [
    {
     "data": {
      "text/html": [
       "<div>\n",
       "<style scoped>\n",
       "    .dataframe tbody tr th:only-of-type {\n",
       "        vertical-align: middle;\n",
       "    }\n",
       "\n",
       "    .dataframe tbody tr th {\n",
       "        vertical-align: top;\n",
       "    }\n",
       "\n",
       "    .dataframe thead th {\n",
       "        text-align: right;\n",
       "    }\n",
       "</style>\n",
       "<table border=\"1\" class=\"dataframe\">\n",
       "  <thead>\n",
       "    <tr style=\"text-align: right;\">\n",
       "      <th></th>\n",
       "      <th>作者</th>\n",
       "      <th>价格</th>\n",
       "    </tr>\n",
       "  </thead>\n",
       "  <tbody>\n",
       "    <tr>\n",
       "      <th>0</th>\n",
       "      <td>余华</td>\n",
       "      <td>35</td>\n",
       "    </tr>\n",
       "    <tr>\n",
       "      <th>1</th>\n",
       "      <td>残雪</td>\n",
       "      <td>72</td>\n",
       "    </tr>\n",
       "    <tr>\n",
       "      <th>2</th>\n",
       "      <td>莫言</td>\n",
       "      <td>38</td>\n",
       "    </tr>\n",
       "  </tbody>\n",
       "</table>\n",
       "</div>"
      ],
      "text/plain": [
       "   作者  价格\n",
       "0  余华  35\n",
       "1  残雪  72\n",
       "2  莫言  38"
      ]
     },
     "execution_count": 19,
     "metadata": {},
     "output_type": "execute_result"
    }
   ],
   "source": [
    "df2[['作者','价格']]"
   ]
  },
  {
   "cell_type": "code",
   "execution_count": 20,
   "metadata": {},
   "outputs": [
    {
     "data": {
      "text/plain": [
       "array([['余华', '活着', 35],\n",
       "       ['残雪', '暗夜', 72],\n",
       "       ['莫言', '红高粱', 38]], dtype=object)"
      ]
     },
     "execution_count": 20,
     "metadata": {},
     "output_type": "execute_result"
    }
   ],
   "source": [
    "df2.values\n",
    "#直接获得它的值"
   ]
  },
  {
   "cell_type": "code",
   "execution_count": 21,
   "metadata": {},
   "outputs": [],
   "source": [
    "贵州茅台原始数据 = pd.read_csv(R'output\\600519.csv')"
   ]
  },
  {
   "cell_type": "code",
   "execution_count": 22,
   "metadata": {},
   "outputs": [
    {
     "data": {
      "text/plain": [
       "0        1410347008\n",
       "1         463463008\n",
       "2         194689000\n",
       "3         177558000\n",
       "4          86231000\n",
       "           ...     \n",
       "4089     2694714080\n",
       "4090    10663392512\n",
       "4091     5239853056\n",
       "4092     5581027328\n",
       "4093     5227695104\n",
       "Name: TURNOVER, Length: 4094, dtype: int64"
      ]
     },
     "execution_count": 22,
     "metadata": {},
     "output_type": "execute_result"
    }
   ],
   "source": [
    "#按列查询数据\n",
    "贵州茅台原始数据['TURNOVER']"
   ]
  },
  {
   "cell_type": "code",
   "execution_count": 23,
   "metadata": {},
   "outputs": [
    {
     "data": {
      "text/html": [
       "<div>\n",
       "<style scoped>\n",
       "    .dataframe tbody tr th:only-of-type {\n",
       "        vertical-align: middle;\n",
       "    }\n",
       "\n",
       "    .dataframe tbody tr th {\n",
       "        vertical-align: top;\n",
       "    }\n",
       "\n",
       "    .dataframe thead th {\n",
       "        text-align: right;\n",
       "    }\n",
       "</style>\n",
       "<table border=\"1\" class=\"dataframe\">\n",
       "  <thead>\n",
       "    <tr style=\"text-align: right;\">\n",
       "      <th></th>\n",
       "      <th>TURNOVER</th>\n",
       "      <th>volume</th>\n",
       "    </tr>\n",
       "  </thead>\n",
       "  <tbody>\n",
       "    <tr>\n",
       "      <th>0</th>\n",
       "      <td>1410347008</td>\n",
       "      <td>406318</td>\n",
       "    </tr>\n",
       "    <tr>\n",
       "      <th>1</th>\n",
       "      <td>463463008</td>\n",
       "      <td>129647</td>\n",
       "    </tr>\n",
       "    <tr>\n",
       "      <th>2</th>\n",
       "      <td>194689000</td>\n",
       "      <td>53252</td>\n",
       "    </tr>\n",
       "    <tr>\n",
       "      <th>3</th>\n",
       "      <td>177558000</td>\n",
       "      <td>48013</td>\n",
       "    </tr>\n",
       "    <tr>\n",
       "      <th>4</th>\n",
       "      <td>86231000</td>\n",
       "      <td>23231</td>\n",
       "    </tr>\n",
       "    <tr>\n",
       "      <th>...</th>\n",
       "      <td>...</td>\n",
       "      <td>...</td>\n",
       "    </tr>\n",
       "    <tr>\n",
       "      <th>4089</th>\n",
       "      <td>2694714080</td>\n",
       "      <td>49076</td>\n",
       "    </tr>\n",
       "    <tr>\n",
       "      <th>4090</th>\n",
       "      <td>10663392512</td>\n",
       "      <td>204397</td>\n",
       "    </tr>\n",
       "    <tr>\n",
       "      <th>4091</th>\n",
       "      <td>5239853056</td>\n",
       "      <td>96885</td>\n",
       "    </tr>\n",
       "    <tr>\n",
       "      <th>4092</th>\n",
       "      <td>5581027328</td>\n",
       "      <td>98107</td>\n",
       "    </tr>\n",
       "    <tr>\n",
       "      <th>4093</th>\n",
       "      <td>5227695104</td>\n",
       "      <td>89157</td>\n",
       "    </tr>\n",
       "  </tbody>\n",
       "</table>\n",
       "<p>4094 rows × 2 columns</p>\n",
       "</div>"
      ],
      "text/plain": [
       "         TURNOVER  volume\n",
       "0      1410347008  406318\n",
       "1       463463008  129647\n",
       "2       194689000   53252\n",
       "3       177558000   48013\n",
       "4        86231000   23231\n",
       "...           ...     ...\n",
       "4089   2694714080   49076\n",
       "4090  10663392512  204397\n",
       "4091   5239853056   96885\n",
       "4092   5581027328   98107\n",
       "4093   5227695104   89157\n",
       "\n",
       "[4094 rows x 2 columns]"
      ]
     },
     "execution_count": 23,
     "metadata": {},
     "output_type": "execute_result"
    }
   ],
   "source": [
    "贵州茅台原始数据[['TURNOVER','volume']]"
   ]
  },
  {
   "cell_type": "code",
   "execution_count": 24,
   "metadata": {},
   "outputs": [
    {
     "data": {
      "text/plain": [
       "day           2001-08-27\n",
       "STOCK_CODE       6005191\n",
       "open               34.51\n",
       "close              35.55\n",
       "maximum            37.78\n",
       "minimum            32.85\n",
       "volume            406318\n",
       "TURNOVER      1410347008\n",
       "Name: 0, dtype: object"
      ]
     },
     "execution_count": 24,
     "metadata": {},
     "output_type": "execute_result"
    }
   ],
   "source": [
    "#按照行索引\n",
    "贵州茅台原始数据.loc[0]"
   ]
  },
  {
   "cell_type": "code",
   "execution_count": 25,
   "metadata": {},
   "outputs": [],
   "source": [
    "贵州茅台 = 贵州茅台原始数据.set_index('day')"
   ]
  },
  {
   "cell_type": "code",
   "execution_count": 26,
   "metadata": {},
   "outputs": [
    {
     "data": {
      "text/plain": [
       "STOCK_CODE    6.005191e+06\n",
       "open          3.451000e+01\n",
       "close         3.555000e+01\n",
       "maximum       3.778000e+01\n",
       "minimum       3.285000e+01\n",
       "volume        4.063180e+05\n",
       "TURNOVER      1.410347e+09\n",
       "Name: 2001-08-27, dtype: float64"
      ]
     },
     "execution_count": 26,
     "metadata": {},
     "output_type": "execute_result"
    }
   ],
   "source": [
    "#loc索引器\n",
    "#单个元素\n",
    "贵州茅台.loc['2001-08-27']"
   ]
  },
  {
   "cell_type": "code",
   "execution_count": 27,
   "metadata": {},
   "outputs": [
    {
     "data": {
      "text/plain": [
       "35.55"
      ]
     },
     "execution_count": 27,
     "metadata": {},
     "output_type": "execute_result"
    }
   ],
   "source": [
    "贵州茅台.loc['2001-08-27','close']"
   ]
  },
  {
   "cell_type": "code",
   "execution_count": 28,
   "metadata": {},
   "outputs": [
    {
     "data": {
      "text/plain": [
       "open     34.51\n",
       "close    35.55\n",
       "Name: 2001-08-27, dtype: float64"
      ]
     },
     "execution_count": 28,
     "metadata": {},
     "output_type": "execute_result"
    }
   ],
   "source": [
    "贵州茅台.loc['2001-08-27', ['open', 'close']]"
   ]
  },
  {
   "cell_type": "code",
   "execution_count": 29,
   "metadata": {},
   "outputs": [
    {
     "data": {
      "text/plain": [
       "open     37.00\n",
       "close    36.58\n",
       "Name: 2001-10-08, dtype: float64"
      ]
     },
     "execution_count": 29,
     "metadata": {},
     "output_type": "execute_result"
    }
   ],
   "source": [
    "贵州茅台.loc['2001-10-08', ['open', 'close']]"
   ]
  },
  {
   "cell_type": "code",
   "execution_count": 30,
   "metadata": {},
   "outputs": [
    {
     "data": {
      "text/plain": [
       "day\n",
       "2001-08-27    34.51\n",
       "2001-08-28    34.99\n",
       "2001-08-29    36.98\n",
       "2001-08-30    36.28\n",
       "2001-08-31    37.15\n",
       "2001-09-03    37.20\n",
       "2001-09-04    37.01\n",
       "2001-09-05    37.61\n",
       "2001-09-06    37.35\n",
       "2001-09-07    36.50\n",
       "2001-09-10    35.40\n",
       "2001-09-11    36.80\n",
       "2001-09-12    35.33\n",
       "2001-09-13    36.01\n",
       "2001-09-14    36.01\n",
       "2001-09-17    36.08\n",
       "2001-09-18    35.88\n",
       "2001-09-19    36.30\n",
       "2001-09-20    36.90\n",
       "2001-09-21    36.28\n",
       "2001-09-24    36.06\n",
       "2001-09-25    36.28\n",
       "2001-09-26    36.11\n",
       "2001-09-27    36.08\n",
       "2001-09-28    36.90\n",
       "2001-10-08    37.00\n",
       "Name: open, dtype: float64"
      ]
     },
     "execution_count": 30,
     "metadata": {},
     "output_type": "execute_result"
    }
   ],
   "source": [
    "贵州茅台.loc['2001-08-27':'2001-10-08','open']\n",
    "#单引号引起来的是字符串"
   ]
  },
  {
   "cell_type": "code",
   "execution_count": 32,
   "metadata": {},
   "outputs": [
    {
     "data": {
      "text/html": [
       "<div>\n",
       "<style scoped>\n",
       "    .dataframe tbody tr th:only-of-type {\n",
       "        vertical-align: middle;\n",
       "    }\n",
       "\n",
       "    .dataframe tbody tr th {\n",
       "        vertical-align: top;\n",
       "    }\n",
       "\n",
       "    .dataframe thead th {\n",
       "        text-align: right;\n",
       "    }\n",
       "</style>\n",
       "<table border=\"1\" class=\"dataframe\">\n",
       "  <thead>\n",
       "    <tr style=\"text-align: right;\">\n",
       "      <th></th>\n",
       "      <th>STOCK_CODE</th>\n",
       "      <th>open</th>\n",
       "      <th>close</th>\n",
       "      <th>maximum</th>\n",
       "      <th>minimum</th>\n",
       "      <th>volume</th>\n",
       "      <th>TURNOVER</th>\n",
       "    </tr>\n",
       "    <tr>\n",
       "      <th>day</th>\n",
       "      <th></th>\n",
       "      <th></th>\n",
       "      <th></th>\n",
       "      <th></th>\n",
       "      <th></th>\n",
       "      <th></th>\n",
       "      <th></th>\n",
       "    </tr>\n",
       "  </thead>\n",
       "  <tbody>\n",
       "    <tr>\n",
       "      <th>2001-10-17</th>\n",
       "      <td>6005191</td>\n",
       "      <td>34.79</td>\n",
       "      <td>34.20</td>\n",
       "      <td>34.81</td>\n",
       "      <td>33.90</td>\n",
       "      <td>12507</td>\n",
       "      <td>42766000</td>\n",
       "    </tr>\n",
       "    <tr>\n",
       "      <th>2001-10-18</th>\n",
       "      <td>6005191</td>\n",
       "      <td>34.20</td>\n",
       "      <td>34.04</td>\n",
       "      <td>34.66</td>\n",
       "      <td>33.91</td>\n",
       "      <td>4983</td>\n",
       "      <td>16999000</td>\n",
       "    </tr>\n",
       "    <tr>\n",
       "      <th>2001-10-19</th>\n",
       "      <td>6005191</td>\n",
       "      <td>34.00</td>\n",
       "      <td>33.50</td>\n",
       "      <td>34.15</td>\n",
       "      <td>33.01</td>\n",
       "      <td>15687</td>\n",
       "      <td>52422000</td>\n",
       "    </tr>\n",
       "    <tr>\n",
       "      <th>2001-10-22</th>\n",
       "      <td>6005191</td>\n",
       "      <td>33.30</td>\n",
       "      <td>32.79</td>\n",
       "      <td>33.70</td>\n",
       "      <td>32.70</td>\n",
       "      <td>9760</td>\n",
       "      <td>32268000</td>\n",
       "    </tr>\n",
       "    <tr>\n",
       "      <th>2001-11-08</th>\n",
       "      <td>6005191</td>\n",
       "      <td>33.35</td>\n",
       "      <td>33.70</td>\n",
       "      <td>33.89</td>\n",
       "      <td>32.98</td>\n",
       "      <td>7402</td>\n",
       "      <td>24682000</td>\n",
       "    </tr>\n",
       "    <tr>\n",
       "      <th>...</th>\n",
       "      <td>...</td>\n",
       "      <td>...</td>\n",
       "      <td>...</td>\n",
       "      <td>...</td>\n",
       "      <td>...</td>\n",
       "      <td>...</td>\n",
       "      <td>...</td>\n",
       "    </tr>\n",
       "    <tr>\n",
       "      <th>2004-09-21</th>\n",
       "      <td>6005191</td>\n",
       "      <td>32.09</td>\n",
       "      <td>32.30</td>\n",
       "      <td>32.98</td>\n",
       "      <td>32.09</td>\n",
       "      <td>8374</td>\n",
       "      <td>27222818</td>\n",
       "    </tr>\n",
       "    <tr>\n",
       "      <th>2004-09-22</th>\n",
       "      <td>6005191</td>\n",
       "      <td>32.03</td>\n",
       "      <td>32.16</td>\n",
       "      <td>32.49</td>\n",
       "      <td>32.03</td>\n",
       "      <td>4348</td>\n",
       "      <td>13965168</td>\n",
       "    </tr>\n",
       "    <tr>\n",
       "      <th>2004-09-23</th>\n",
       "      <td>6005191</td>\n",
       "      <td>32.11</td>\n",
       "      <td>33.42</td>\n",
       "      <td>33.52</td>\n",
       "      <td>32.11</td>\n",
       "      <td>17667</td>\n",
       "      <td>58219692</td>\n",
       "    </tr>\n",
       "    <tr>\n",
       "      <th>2004-09-24</th>\n",
       "      <td>6005191</td>\n",
       "      <td>33.60</td>\n",
       "      <td>34.49</td>\n",
       "      <td>35.89</td>\n",
       "      <td>33.60</td>\n",
       "      <td>30981</td>\n",
       "      <td>108295826</td>\n",
       "    </tr>\n",
       "    <tr>\n",
       "      <th>2004-09-27</th>\n",
       "      <td>6005191</td>\n",
       "      <td>34.95</td>\n",
       "      <td>34.93</td>\n",
       "      <td>35.98</td>\n",
       "      <td>34.50</td>\n",
       "      <td>6067</td>\n",
       "      <td>21339456</td>\n",
       "    </tr>\n",
       "  </tbody>\n",
       "</table>\n",
       "<p>498 rows × 7 columns</p>\n",
       "</div>"
      ],
      "text/plain": [
       "            STOCK_CODE   open  close  maximum  minimum  volume   TURNOVER\n",
       "day                                                                      \n",
       "2001-10-17     6005191  34.79  34.20    34.81    33.90   12507   42766000\n",
       "2001-10-18     6005191  34.20  34.04    34.66    33.91    4983   16999000\n",
       "2001-10-19     6005191  34.00  33.50    34.15    33.01   15687   52422000\n",
       "2001-10-22     6005191  33.30  32.79    33.70    32.70    9760   32268000\n",
       "2001-11-08     6005191  33.35  33.70    33.89    32.98    7402   24682000\n",
       "...                ...    ...    ...      ...      ...     ...        ...\n",
       "2004-09-21     6005191  32.09  32.30    32.98    32.09    8374   27222818\n",
       "2004-09-22     6005191  32.03  32.16    32.49    32.03    4348   13965168\n",
       "2004-09-23     6005191  32.11  33.42    33.52    32.11   17667   58219692\n",
       "2004-09-24     6005191  33.60  34.49    35.89    33.60   30981  108295826\n",
       "2004-09-27     6005191  34.95  34.93    35.98    34.50    6067   21339456\n",
       "\n",
       "[498 rows x 7 columns]"
      ]
     },
     "execution_count": 32,
     "metadata": {},
     "output_type": "execute_result"
    }
   ],
   "source": [
    "条件1 = 贵州茅台['open'] < 35\n",
    "条件2 = 贵州茅台['close'] < 35\n",
    "布尔列表 = 条件1 & 条件2\n",
    "贵州茅台.loc[布尔列表]\n",
    "#loc中能放5类值，行或列名字，切片，函数，布尔"
   ]
  },
  {
   "cell_type": "code",
   "execution_count": 33,
   "metadata": {},
   "outputs": [],
   "source": [
    "#使用函数作为索引\n",
    "def condition(pd):\n",
    "    条件1 = pd['open'] < 35\n",
    "    条件2 = pd['close'] < 35\n",
    "    布尔列表 = 条件1 & 条件2\n",
    "    return 布尔列表"
   ]
  },
  {
   "cell_type": "code",
   "execution_count": null,
   "metadata": {},
   "outputs": [],
   "source": [
    "贵州茅台.loc[condition]"
   ]
  },
  {
   "cell_type": "code",
   "execution_count": 36,
   "metadata": {},
   "outputs": [
    {
     "data": {
      "text/plain": [
       "day\n",
       "2001-10-17    34.79\n",
       "2001-10-18    34.20\n",
       "2001-10-19    34.00\n",
       "2001-10-22    33.30\n",
       "2001-11-08    33.35\n",
       "              ...  \n",
       "2004-09-21    32.09\n",
       "2004-09-22    32.03\n",
       "2004-09-23    32.11\n",
       "2004-09-24    33.60\n",
       "2004-09-27    34.95\n",
       "Name: open, Length: 498, dtype: float64"
      ]
     },
     "execution_count": 36,
     "metadata": {},
     "output_type": "execute_result"
    }
   ],
   "source": [
    "贵州茅台.query('open<35 and close<35').open"
   ]
  },
  {
   "cell_type": "code",
   "execution_count": 39,
   "metadata": {},
   "outputs": [
    {
     "data": {
      "text/html": [
       "<div>\n",
       "<style scoped>\n",
       "    .dataframe tbody tr th:only-of-type {\n",
       "        vertical-align: middle;\n",
       "    }\n",
       "\n",
       "    .dataframe tbody tr th {\n",
       "        vertical-align: top;\n",
       "    }\n",
       "\n",
       "    .dataframe thead th {\n",
       "        text-align: right;\n",
       "    }\n",
       "</style>\n",
       "<table border=\"1\" class=\"dataframe\">\n",
       "  <thead>\n",
       "    <tr style=\"text-align: right;\">\n",
       "      <th></th>\n",
       "      <th>open</th>\n",
       "      <th>close</th>\n",
       "    </tr>\n",
       "    <tr>\n",
       "      <th>day</th>\n",
       "      <th></th>\n",
       "      <th></th>\n",
       "    </tr>\n",
       "  </thead>\n",
       "  <tbody>\n",
       "    <tr>\n",
       "      <th>2001-10-17</th>\n",
       "      <td>34.79</td>\n",
       "      <td>34.20</td>\n",
       "    </tr>\n",
       "    <tr>\n",
       "      <th>2001-10-18</th>\n",
       "      <td>34.20</td>\n",
       "      <td>34.04</td>\n",
       "    </tr>\n",
       "    <tr>\n",
       "      <th>2001-10-19</th>\n",
       "      <td>34.00</td>\n",
       "      <td>33.50</td>\n",
       "    </tr>\n",
       "    <tr>\n",
       "      <th>2001-10-22</th>\n",
       "      <td>33.30</td>\n",
       "      <td>32.79</td>\n",
       "    </tr>\n",
       "    <tr>\n",
       "      <th>2001-11-08</th>\n",
       "      <td>33.35</td>\n",
       "      <td>33.70</td>\n",
       "    </tr>\n",
       "    <tr>\n",
       "      <th>...</th>\n",
       "      <td>...</td>\n",
       "      <td>...</td>\n",
       "    </tr>\n",
       "    <tr>\n",
       "      <th>2004-09-21</th>\n",
       "      <td>32.09</td>\n",
       "      <td>32.30</td>\n",
       "    </tr>\n",
       "    <tr>\n",
       "      <th>2004-09-22</th>\n",
       "      <td>32.03</td>\n",
       "      <td>32.16</td>\n",
       "    </tr>\n",
       "    <tr>\n",
       "      <th>2004-09-23</th>\n",
       "      <td>32.11</td>\n",
       "      <td>33.42</td>\n",
       "    </tr>\n",
       "    <tr>\n",
       "      <th>2004-09-24</th>\n",
       "      <td>33.60</td>\n",
       "      <td>34.49</td>\n",
       "    </tr>\n",
       "    <tr>\n",
       "      <th>2004-09-27</th>\n",
       "      <td>34.95</td>\n",
       "      <td>34.93</td>\n",
       "    </tr>\n",
       "  </tbody>\n",
       "</table>\n",
       "<p>498 rows × 2 columns</p>\n",
       "</div>"
      ],
      "text/plain": [
       "             open  close\n",
       "day                     \n",
       "2001-10-17  34.79  34.20\n",
       "2001-10-18  34.20  34.04\n",
       "2001-10-19  34.00  33.50\n",
       "2001-10-22  33.30  32.79\n",
       "2001-11-08  33.35  33.70\n",
       "...           ...    ...\n",
       "2004-09-21  32.09  32.30\n",
       "2004-09-22  32.03  32.16\n",
       "2004-09-23  32.11  33.42\n",
       "2004-09-24  33.60  34.49\n",
       "2004-09-27  34.95  34.93\n",
       "\n",
       "[498 rows x 2 columns]"
      ]
     },
     "execution_count": 39,
     "metadata": {},
     "output_type": "execute_result"
    }
   ],
   "source": [
    "贵州茅台.query('open<35 and close<35')[['open','close']]"
   ]
  },
  {
   "cell_type": "code",
   "execution_count": 49,
   "metadata": {},
   "outputs": [
    {
     "data": {
      "text/html": [
       "<div>\n",
       "<style scoped>\n",
       "    .dataframe tbody tr th:only-of-type {\n",
       "        vertical-align: middle;\n",
       "    }\n",
       "\n",
       "    .dataframe tbody tr th {\n",
       "        vertical-align: top;\n",
       "    }\n",
       "\n",
       "    .dataframe thead th {\n",
       "        text-align: right;\n",
       "    }\n",
       "</style>\n",
       "<table border=\"1\" class=\"dataframe\">\n",
       "  <thead>\n",
       "    <tr style=\"text-align: right;\">\n",
       "      <th></th>\n",
       "      <th>STOCK_CODE</th>\n",
       "      <th>open</th>\n",
       "      <th>close</th>\n",
       "      <th>maximum</th>\n",
       "      <th>minimum</th>\n",
       "      <th>volume</th>\n",
       "      <th>TURNOVER</th>\n",
       "    </tr>\n",
       "    <tr>\n",
       "      <th>day</th>\n",
       "      <th></th>\n",
       "      <th></th>\n",
       "      <th></th>\n",
       "      <th></th>\n",
       "      <th></th>\n",
       "      <th></th>\n",
       "      <th></th>\n",
       "    </tr>\n",
       "  </thead>\n",
       "  <tbody>\n",
       "    <tr>\n",
       "      <th>2005-07-06</th>\n",
       "      <td>6005191</td>\n",
       "      <td>51.75</td>\n",
       "      <td>50.31</td>\n",
       "      <td>52.0</td>\n",
       "      <td>50.0</td>\n",
       "      <td>6317</td>\n",
       "      <td>32226601</td>\n",
       "    </tr>\n",
       "  </tbody>\n",
       "</table>\n",
       "</div>"
      ],
      "text/plain": [
       "            STOCK_CODE   open  close  maximum  minimum  volume  TURNOVER\n",
       "day                                                                     \n",
       "2005-07-06     6005191  51.75  50.31     52.0     50.0    6317  32226601"
      ]
     },
     "execution_count": 49,
     "metadata": {},
     "output_type": "execute_result"
    }
   ],
   "source": [
    "贵州茅台.sample()"
   ]
  },
  {
   "cell_type": "code",
   "execution_count": 42,
   "metadata": {},
   "outputs": [
    {
     "name": "stdout",
     "output_type": "stream",
     "text": [
      "<class 'pandas.core.frame.DataFrame'>\n",
      "Index: 4094 entries, 2001-08-27 to 2018-11-02\n",
      "Data columns (total 7 columns):\n",
      " #   Column      Non-Null Count  Dtype  \n",
      "---  ------      --------------  -----  \n",
      " 0   STOCK_CODE  4094 non-null   int64  \n",
      " 1   open        4094 non-null   float64\n",
      " 2   close       4094 non-null   float64\n",
      " 3   maximum     4094 non-null   float64\n",
      " 4   minimum     4094 non-null   float64\n",
      " 5   volume      4094 non-null   int64  \n",
      " 6   TURNOVER    4094 non-null   int64  \n",
      "dtypes: float64(4), int64(3)\n",
      "memory usage: 384.9+ KB\n"
     ]
    }
   ],
   "source": [
    "贵州茅台.info()"
   ]
  },
  {
   "cell_type": "code",
   "execution_count": 47,
   "metadata": {},
   "outputs": [
    {
     "data": {
      "text/plain": [
       "count    4094.000000\n",
       "mean      182.161910\n",
       "std       165.857882\n",
       "min        20.900000\n",
       "25%        47.405000\n",
       "50%       159.930000\n",
       "75%       208.500000\n",
       "max       800.000000\n",
       "Name: open, dtype: float64"
      ]
     },
     "execution_count": 47,
     "metadata": {},
     "output_type": "execute_result"
    }
   ],
   "source": [
    "贵州茅台['open'].describe()"
   ]
  },
  {
   "cell_type": "code",
   "execution_count": 51,
   "metadata": {},
   "outputs": [],
   "source": [
    "result = 贵州茅台['open'].unique()"
   ]
  },
  {
   "cell_type": "code",
   "execution_count": 52,
   "metadata": {},
   "outputs": [],
   "source": [
    "result2 = 贵州茅台['open'].nunique()"
   ]
  },
  {
   "cell_type": "code",
   "execution_count": 53,
   "metadata": {},
   "outputs": [],
   "source": [
    "result3 = 贵州茅台['open'].value_counts()"
   ]
  },
  {
   "cell_type": "code",
   "execution_count": 54,
   "metadata": {},
   "outputs": [
    {
     "data": {
      "text/plain": [
       "name\n",
       "A    4\n",
       "B    5\n",
       "C    8\n",
       "c    4\n",
       "Name: value, dtype: int64"
      ]
     },
     "execution_count": 54,
     "metadata": {},
     "output_type": "execute_result"
    }
   ],
   "source": [
    "df = pd.DataFrame({\n",
    "    \"name\":[\"A\",\"B\",\"C\",\"B\",\"c\",\"A\",\"C\"],\n",
    "    \"value\":[1,3,7,2,4,3,1]\n",
    "})\n",
    "df.groupby(\"name\")[\"value\"].sum()"
   ]
  }
 ],
 "metadata": {
  "kernelspec": {
   "display_name": "Python 3",
   "language": "python",
   "name": "python3"
  },
  "language_info": {
   "codemirror_mode": {
    "name": "ipython",
    "version": 3
   },
   "file_extension": ".py",
   "mimetype": "text/x-python",
   "name": "python",
   "nbconvert_exporter": "python",
   "pygments_lexer": "ipython3",
   "version": "3.8.10"
  },
  "orig_nbformat": 4
 },
 "nbformat": 4,
 "nbformat_minor": 2
}
